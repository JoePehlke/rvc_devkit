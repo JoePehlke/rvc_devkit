{
 "cells": [
  {
   "cell_type": "code",
   "execution_count": 41,
   "metadata": {},
   "outputs": [],
   "source": [
    "import json\n",
    "from nltk.corpus import wordnet as wn"
   ]
  },
  {
   "cell_type": "markdown",
   "metadata": {},
   "source": [
    "### Quick WordNet Intro"
   ]
  },
  {
   "cell_type": "markdown",
   "metadata": {},
   "source": [
    "##### Wordnet is composed of so called Synsets"
   ]
  },
  {
   "cell_type": "markdown",
   "metadata": {},
   "source": [
    "##### Use wn.synset(WORD) to find potential synsets"
   ]
  },
  {
   "cell_type": "code",
   "execution_count": 2,
   "metadata": {},
   "outputs": [
    {
     "data": {
      "text/plain": [
       "[Synset('dog.n.01'),\n",
       " Synset('frump.n.01'),\n",
       " Synset('dog.n.03'),\n",
       " Synset('cad.n.01'),\n",
       " Synset('frank.n.02'),\n",
       " Synset('pawl.n.01'),\n",
       " Synset('andiron.n.01'),\n",
       " Synset('chase.v.01')]"
      ]
     },
     "execution_count": 2,
     "metadata": {},
     "output_type": "execute_result"
    }
   ],
   "source": [
    "wn.synsets('dog')"
   ]
  },
  {
   "cell_type": "markdown",
   "metadata": {},
   "source": [
    "##### Or if you know the synset use wn.synset(SYNSET_ID)"
   ]
  },
  {
   "cell_type": "code",
   "execution_count": 60,
   "metadata": {},
   "outputs": [],
   "source": [
    "synset = wn.synset('dog.n.01')"
   ]
  },
  {
   "cell_type": "markdown",
   "metadata": {},
   "source": [
    "##### Synsets have a number of attributes. The most important ones are the name and definition"
   ]
  },
  {
   "cell_type": "code",
   "execution_count": 39,
   "metadata": {},
   "outputs": [
    {
     "name": "stdout",
     "output_type": "stream",
     "text": [
      "Synset: Synset('dog.n.01')\n",
      "Name: dog.n.01\n",
      "Definition: a member of the genus Canis (probably descended from the common wolf) that has been domesticated by man since prehistoric times; occurs in many breeds\n",
      "Examples: ['the dog barked all night']\n"
     ]
    }
   ],
   "source": [
    "print(\"Synset: {}\".format(synset))\n",
    "print(\"Name: {}\".format(synset.name()))\n",
    "print(\"Definition: {}\".format(synset.definition()))\n",
    "print(\"Examples: {}\".format(synset.examples()))"
   ]
  },
  {
   "cell_type": "markdown",
   "metadata": {},
   "source": [
    "##### All synsets in WordNet lie on a directed acyclic graph.\n",
    "##### The words higher up and below a synset in the grapoh are the hypernyms and hyponyms of that synset"
   ]
  },
  {
   "cell_type": "code",
   "execution_count": 61,
   "metadata": {},
   "outputs": [
    {
     "name": "stdout",
     "output_type": "stream",
     "text": [
      "Hypernyms: [Synset('canine.n.02'), Synset('domestic_animal.n.01')]\n",
      "Hyponyms: [Synset('basenji.n.01'), Synset('corgi.n.01'), Synset('cur.n.01'), Synset('dalmatian.n.02'), Synset('great_pyrenees.n.01'), Synset('griffon.n.02'), Synset('hunting_dog.n.01'), Synset('lapdog.n.01'), Synset('leonberg.n.01'), Synset('mexican_hairless.n.01'), Synset('newfoundland.n.01'), Synset('pooch.n.01'), Synset('poodle.n.01'), Synset('pug.n.01'), Synset('puppy.n.01'), Synset('spitz.n.01'), Synset('toy_dog.n.01'), Synset('working_dog.n.01')]\n"
     ]
    }
   ],
   "source": [
    "print(\"Hypernyms: {}\".format(synset.hypernyms()))\n",
    "print(\"Hyponyms: {}\".format(synset.hyponyms()))"
   ]
  },
  {
   "cell_type": "markdown",
   "metadata": {},
   "source": [
    "##### To find all elements below a certain synset we have to scan the hyponyms of that word recursively"
   ]
  },
  {
   "cell_type": "code",
   "execution_count": 55,
   "metadata": {},
   "outputs": [],
   "source": [
    "def get_hyponyms_recursive(synset):\n",
    "    hyponyms = synset.hyponyms()\n",
    "    for s in synset.hyponyms():\n",
    "        hyp = get_hyponym_recursive(s)\n",
    "        hyponyms = hyponyms + hyp\n",
    "    return hyponyms"
   ]
  },
  {
   "cell_type": "code",
   "execution_count": 62,
   "metadata": {},
   "outputs": [
    {
     "name": "stdout",
     "output_type": "stream",
     "text": [
      "All hyponyms: [Synset('basenji.n.01'), Synset('corgi.n.01'), Synset('cur.n.01'), Synset('dalmatian.n.02'), Synset('great_pyrenees.n.01'), Synset('griffon.n.02'), Synset('hunting_dog.n.01'), Synset('lapdog.n.01'), Synset('leonberg.n.01'), Synset('mexican_hairless.n.01'), Synset('newfoundland.n.01'), Synset('pooch.n.01'), Synset('poodle.n.01'), Synset('pug.n.01'), Synset('puppy.n.01'), Synset('spitz.n.01'), Synset('toy_dog.n.01'), Synset('working_dog.n.01'), Synset('cardigan.n.02'), Synset('pembroke.n.01'), Synset('feist.n.01'), Synset('pariah_dog.n.01'), Synset('liver-spotted_dalmatian.n.01'), Synset('brabancon_griffon.n.01'), Synset('courser.n.03'), Synset('dachshund.n.01'), Synset('hound.n.01'), Synset('rhodesian_ridgeback.n.01'), Synset('sporting_dog.n.01'), Synset('terrier.n.01'), Synset('sausage_dog.n.01'), Synset('afghan_hound.n.01'), Synset('basset.n.01'), Synset('beagle.n.01'), Synset('bloodhound.n.01'), Synset('bluetick.n.01'), Synset('boarhound.n.01'), Synset('coonhound.n.01'), Synset('foxhound.n.01'), Synset('greyhound.n.01'), Synset('harrier.n.02'), Synset('ibizan_hound.n.01'), Synset('norwegian_elkhound.n.01'), Synset('otterhound.n.01'), Synset('plott_hound.n.01'), Synset('redbone.n.01'), Synset('saluki.n.01'), Synset('scottish_deerhound.n.01'), Synset('staghound.n.01'), Synset('weimaraner.n.01'), Synset('wolfhound.n.01'), Synset('black-and-tan_coonhound.n.01'), Synset('coondog.n.01'), Synset('american_foxhound.n.01'), Synset('english_foxhound.n.01'), Synset('walker_hound.n.01'), Synset('italian_greyhound.n.01'), Synset('whippet.n.01'), Synset('borzoi.n.01'), Synset('irish_wolfhound.n.01'), Synset('bird_dog.n.01'), Synset('griffon.n.03'), Synset('pointer.n.04'), Synset('retriever.n.01'), Synset('setter.n.02'), Synset('spaniel.n.01'), Synset('water_dog.n.02'), Synset('german_short-haired_pointer.n.01'), Synset('vizsla.n.01'), Synset('chesapeake_bay_retriever.n.01'), Synset('curly-coated_retriever.n.01'), Synset('flat-coated_retriever.n.01'), Synset('golden_retriever.n.01'), Synset('labrador_retriever.n.01'), Synset('english_setter.n.01'), Synset('gordon_setter.n.01'), Synset('irish_setter.n.01'), Synset('brittany_spaniel.n.01'), Synset('clumber.n.01'), Synset('cocker_spaniel.n.01'), Synset('field_spaniel.n.01'), Synset('springer_spaniel.n.01'), Synset('sussex_spaniel.n.01'), Synset('water_spaniel.n.01'), Synset('english_springer.n.01'), Synset('welsh_springer_spaniel.n.01'), Synset('american_water_spaniel.n.01'), Synset('irish_water_spaniel.n.01'), Synset('airedale.n.01'), Synset('australian_terrier.n.01'), Synset('bedlington_terrier.n.01'), Synset('border_terrier.n.01'), Synset('boston_bull.n.01'), Synset('bullterrier.n.01'), Synset('cairn.n.02'), Synset('dandie_dinmont.n.01'), Synset('fox_terrier.n.01'), Synset('irish_terrier.n.01'), Synset('kerry_blue_terrier.n.01'), Synset('lhasa.n.02'), Synset('norfolk_terrier.n.01'), Synset('norwich_terrier.n.01'), Synset('rat_terrier.n.01'), Synset('schnauzer.n.01'), Synset('scotch_terrier.n.01'), Synset('silky_terrier.n.01'), Synset('skye_terrier.n.01'), Synset('soft-coated_wheaten_terrier.n.01'), Synset('tibetan_terrier.n.01'), Synset('west_highland_white_terrier.n.01'), Synset('wirehair.n.01'), Synset('yorkshire_terrier.n.01'), Synset('american_staffordshire_terrier.n.01'), Synset('staffordshire_bullterrier.n.01'), Synset('smooth-haired_fox_terrier.n.01'), Synset('wire-haired_fox_terrier.n.01'), Synset('manchester_terrier.n.01'), Synset('toy_manchester.n.01'), Synset('giant_schnauzer.n.01'), Synset('miniature_schnauzer.n.01'), Synset('standard_schnauzer.n.01'), Synset('clydesdale_terrier.n.01'), Synset('lakeland_terrier.n.01'), Synset('welsh_terrier.n.01'), Synset('sealyham_terrier.n.01'), Synset('large_poodle.n.01'), Synset('miniature_poodle.n.01'), Synset('standard_poodle.n.01'), Synset('toy_poodle.n.01'), Synset('chow.n.03'), Synset('keeshond.n.01'), Synset('pomeranian.n.01'), Synset('samoyed.n.03'), Synset('chihuahua.n.03'), Synset('japanese_spaniel.n.01'), Synset('maltese_dog.n.01'), Synset('pekinese.n.01'), Synset('shih-tzu.n.01'), Synset('toy_spaniel.n.01'), Synset('toy_terrier.n.01'), Synset('english_toy_spaniel.n.01'), Synset('king_charles_spaniel.n.01'), Synset('papillon.n.01'), Synset('blenheim_spaniel.n.01'), Synset('boxer.n.04'), Synset('bull_mastiff.n.01'), Synset('bulldog.n.01'), Synset('eskimo_dog.n.01'), Synset('great_dane.n.01'), Synset('guide_dog.n.01'), Synset('hearing_dog.n.01'), Synset('mastiff.n.01'), Synset('police_dog.n.01'), Synset('saint_bernard.n.01'), Synset('seizure-alert_dog.n.01'), Synset('sennenhunde.n.01'), Synset('shepherd_dog.n.01'), Synset('sled_dog.n.01'), Synset('watchdog.n.02'), Synset('french_bulldog.n.01'), Synset('seeing_eye_dog.n.01'), Synset('tibetan_mastiff.n.01'), Synset('appenzeller.n.01'), Synset('bernese_mountain_dog.n.01'), Synset('entlebucher.n.01'), Synset('greater_swiss_mountain_dog.n.01'), Synset('belgian_sheepdog.n.01'), Synset('border_collie.n.01'), Synset('bouvier_des_flandres.n.01'), Synset('briard.n.01'), Synset('collie.n.01'), Synset('german_shepherd.n.01'), Synset('kelpie.n.02'), Synset('komondor.n.01'), Synset('old_english_sheepdog.n.01'), Synset('rottweiler.n.01'), Synset('shetland_sheepdog.n.01'), Synset('groenendael.n.01'), Synset('malinois.n.01'), Synset('malamute.n.01'), Synset('siberian_husky.n.01'), Synset('attack_dog.n.01'), Synset('housedog.n.01'), Synset('kuvasz.n.01'), Synset('pinscher.n.01'), Synset('schipperke.n.01'), Synset('affenpinscher.n.01'), Synset('doberman.n.01'), Synset('miniature_pinscher.n.01')]\n"
     ]
    }
   ],
   "source": [
    "print(\"All hyponyms: {}\".format(get_hyponyms_recursive(synset)))"
   ]
  },
  {
   "cell_type": "code",
   "execution_count": null,
   "metadata": {},
   "outputs": [],
   "source": []
  },
  {
   "cell_type": "markdown",
   "metadata": {},
   "source": [
    "### Example: Use hyponyms and synsets to match coco and lvis categories"
   ]
  },
  {
   "cell_type": "markdown",
   "metadata": {},
   "source": [
    "You need to download the coco and lvis annotations for this test. It is expected that they are in a folder named datasets outside of the rvb_devkit directory."
   ]
  },
  {
   "cell_type": "code",
   "execution_count": 43,
   "metadata": {},
   "outputs": [],
   "source": [
    "coco_data = json.load(open('../../datasets/coco/annotations/instances_val2017.json', 'r'))"
   ]
  },
  {
   "cell_type": "code",
   "execution_count": 44,
   "metadata": {},
   "outputs": [],
   "source": [
    "lvis_data = json.load(open('../../datasets/lvis/annotations/lvis_v0.5_val.json', 'r'))"
   ]
  },
  {
   "cell_type": "code",
   "execution_count": 45,
   "metadata": {},
   "outputs": [],
   "source": [
    "coco_to_synset = json.load(open('coco_to_synset.json', 'r'))"
   ]
  },
  {
   "cell_type": "code",
   "execution_count": 46,
   "metadata": {},
   "outputs": [],
   "source": [
    "coco_cats = coco_data['categories']"
   ]
  },
  {
   "cell_type": "code",
   "execution_count": 47,
   "metadata": {},
   "outputs": [],
   "source": [
    "lvis_cats = lvis_data['categories']"
   ]
  },
  {
   "cell_type": "code",
   "execution_count": 48,
   "metadata": {},
   "outputs": [],
   "source": [
    "# map coco ids to synsets\n",
    "coco_id_to_synset = {coco_to_synset[key]['coco_cat_id']: coco_to_synset[key]['synset'] for key in coco_to_synset}"
   ]
  },
  {
   "cell_type": "code",
   "execution_count": 49,
   "metadata": {},
   "outputs": [],
   "source": [
    "# add synsets to coco cats and remove unused cats\n",
    "coco_cats_w_synset = []\n",
    "for cat in coco_cats:\n",
    "    if cat['id'] in coco_id_to_synset.keys():\n",
    "        cat['synset'] = coco_id_to_synset[cat['id']]\n",
    "        coco_cats_w_synset.append(cat)"
   ]
  },
  {
   "cell_type": "code",
   "execution_count": 50,
   "metadata": {},
   "outputs": [],
   "source": [
    "# get lvis synset to id dict\n",
    "lvis_synset_to_id = {cat['synset']: cat['id'] for cat in lvis_cats}"
   ]
  },
  {
   "cell_type": "code",
   "execution_count": 56,
   "metadata": {},
   "outputs": [
    {
     "name": "stdout",
     "output_type": "stream",
     "text": [
      "{'supercategory': 'food', 'id': 58, 'name': 'hot dog', 'synset': 'frank.n.02'}\n",
      "{'supercategory': 'appliance', 'id': 79, 'name': 'oven', 'synset': 'oven.n.01'}\n"
     ]
    }
   ],
   "source": [
    "# create mapping\n",
    "coco_to_lvis = {}\n",
    "for cat in coco_cats_w_synset:\n",
    "    if cat['synset'] == 'stop_sign.n.01':\n",
    "        hyponym_names = []\n",
    "    else:\n",
    "        synset = wn.synset(cat['synset'])\n",
    "        all_hyponyms = get_hyponyms_recursive(synset)\n",
    "        all_hyponym_names = [h.name() for h in all_hyponyms]\n",
    "    coco_to_lvis[cat['id']] = [lvis_synset_to_id[x] for x in lvis_synset_to_id if (x in all_hyponym_names or x == cat['synset'])]\n",
    "    # print categories without a match\n",
    "    if coco_to_lvis[cat['id']] == []:\n",
    "        print(cat)"
   ]
  },
  {
   "cell_type": "code",
   "execution_count": 53,
   "metadata": {},
   "outputs": [
    {
     "data": {
      "text/plain": [
       "{1: [805],\n",
       " 2: [95],\n",
       " 3: [9, 180, 211, 303, 340, 604, 658, 702, 876],\n",
       " 4: [714, 1133],\n",
       " 5: [4, 443, 607, 947],\n",
       " 6: [174, 936],\n",
       " 7: [165, 1135],\n",
       " 8: [448, 490, 702, 813, 841, 1127, 1134, 1144],\n",
       " 9: [52, 118, 204, 370, 441, 512, 585, 611, 713, 901, 1191],\n",
       " 10: [1132],\n",
       " 11: [452],\n",
       " 13: [1038],\n",
       " 14: [779],\n",
       " 15: [91, 808],\n",
       " 16: [99,\n",
       "  247,\n",
       "  285,\n",
       "  336,\n",
       "  393,\n",
       "  407,\n",
       "  408,\n",
       "  415,\n",
       "  435,\n",
       "  460,\n",
       "  513,\n",
       "  532,\n",
       "  569,\n",
       "  586,\n",
       "  750,\n",
       "  753,\n",
       "  775,\n",
       "  780,\n",
       "  792,\n",
       "  798,\n",
       "  815,\n",
       "  866,\n",
       "  945,\n",
       "  1149,\n",
       "  1170],\n",
       " 17: [229, 320],\n",
       " 18: [163, 250, 358, 382, 867, 871, 962],\n",
       " 19: [579, 844],\n",
       " 20: [108, 885, 961],\n",
       " 21: [81],\n",
       " 22: [429, 677],\n",
       " 23: [78, 528, 588],\n",
       " 24: [1229],\n",
       " 25: [502],\n",
       " 27: [34],\n",
       " 28: [1155],\n",
       " 31: [35, 280, 971],\n",
       " 32: [122, 138, 729],\n",
       " 33: [36],\n",
       " 34: [480],\n",
       " 35: [982, 1192],\n",
       " 36: [993],\n",
       " 37: [41, 72],\n",
       " 38: [621],\n",
       " 39: [58],\n",
       " 40: [60],\n",
       " 41: [980],\n",
       " 42: [1057],\n",
       " 43: [1099],\n",
       " 44: [84, 133, 206, 1102, 1184, 1189, 1213],\n",
       " 46: [468, 1215],\n",
       " 47: [347, 381, 1088],\n",
       " 48: [475],\n",
       " 49: [176, 625, 838, 1026],\n",
       " 50: [1007, 1018, 1220],\n",
       " 51: [139, 1006],\n",
       " 52: [45],\n",
       " 53: [13],\n",
       " 54: [539, 926],\n",
       " 55: [747],\n",
       " 56: [154],\n",
       " 57: [221],\n",
       " 58: [],\n",
       " 59: [829],\n",
       " 60: [392],\n",
       " 61: [104, 157, 185, 257, 305, 326, 349, 392, 766, 1126, 1171, 1198],\n",
       " 62: [20, 237, 238, 362, 470, 570, 892, 904, 1202, 1216],\n",
       " 63: [304, 670, 1001],\n",
       " 64: [852],\n",
       " 65: [79, 171, 541],\n",
       " 67: [371],\n",
       " 70: [1117],\n",
       " 72: [1097],\n",
       " 73: [642],\n",
       " 74: [717],\n",
       " 75: [896],\n",
       " 76: [299],\n",
       " 77: [235],\n",
       " 78: [699],\n",
       " 79: [],\n",
       " 80: [1115],\n",
       " 81: [619, 979],\n",
       " 82: [428],\n",
       " 84: [126, 129, 809],\n",
       " 85: [5, 276, 1176],\n",
       " 86: [1159, 1162],\n",
       " 87: [937, 960],\n",
       " 88: [1091],\n",
       " 89: [544],\n",
       " 90: [1122]}"
      ]
     },
     "execution_count": 53,
     "metadata": {},
     "output_type": "execute_result"
    }
   ],
   "source": [
    "# show complete results\n",
    "coco_to_lvis"
   ]
  }
 ],
 "metadata": {
  "kernelspec": {
   "display_name": "Python 3",
   "language": "python",
   "name": "python3"
  },
  "language_info": {
   "codemirror_mode": {
    "name": "ipython",
    "version": 3
   },
   "file_extension": ".py",
   "mimetype": "text/x-python",
   "name": "python",
   "nbconvert_exporter": "python",
   "pygments_lexer": "ipython3",
   "version": "3.6.3"
  }
 },
 "nbformat": 4,
 "nbformat_minor": 2
}

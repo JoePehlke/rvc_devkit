{
 "cells": [
  {
   "cell_type": "code",
   "execution_count": 1,
   "metadata": {},
   "outputs": [],
   "source": [
    "import csv\n",
    "import json"
   ]
  },
  {
   "cell_type": "markdown",
   "metadata": {},
   "source": [
    "### Load OpenImages Class Description"
   ]
  },
  {
   "cell_type": "code",
   "execution_count": 2,
   "metadata": {},
   "outputs": [],
   "source": [
    "with open('data/openimages/class-descriptions-boxable.csv') as csv_file:\n",
    "    csv_reader = csv.reader(csv_file, delimiter=',')\n",
    "    oi_classes = [row for row in csv_reader]"
   ]
  },
  {
   "cell_type": "markdown",
   "metadata": {},
   "source": [
    "### Load WordNet Dump"
   ]
  },
  {
   "cell_type": "code",
   "execution_count": 3,
   "metadata": {},
   "outputs": [],
   "source": [
    "# This WordNet dump was taken from https://github.com/nlp-compromise/wordnet.js/tree/master/data\n",
    "with open('wordnet_js/Noun.js') as dataFile:\n",
    "    data = dataFile.read()\n",
    "    blub = data[data.find('{') : data.rfind('}')+1]\n",
    "    \n",
    "    # put keys in \"\"\n",
    "    blub = blub.replace('id:', '\"id\":')\n",
    "    blub = blub.replace('lexname:', '\"lexname\":')\n",
    "    blub = blub.replace('syntactic_category:', '\"syntactic_category\":')\n",
    "    blub = blub.replace('description:', '\"description\":')\n",
    "    blub = blub.replace('words:', '\"words\":')\n",
    "    blub = blub.replace('relationships:', '\"relationships\":')\n",
    "    blub = blub.replace('type_of:', '\"type_of\":')\n",
    "    blub = blub.replace('made_with:', '\"made_with\":')\n",
    "    blub = blub.replace('members:', '\"members\":')\n",
    "    blub = blub.replace('parts:', '\"parts\":')\n",
    "    blub = blub.replace('instances:', '\"instances\":')\n",
    "    blub = blub.replace('same_as:', '\"same_as\":')\n",
    "    blub = blub.replace('freebase_topic:', '\"freebase_topic\":')\n",
    "    blub = blub.replace('wikipedia_page:', '\"wikipedia_page\":')\n",
    "    \n",
    "    # turn into a list\n",
    "    blub = '[' + blub + ']'\n",
    "    \n",
    "    # fix remaining errors\n",
    "    blub = blub.replace('\\'a complete extent or range: \"a face that expressed a gamut of emotions\"\\'', '\"a complete extent or range: a face that expressed a gamut of emotions\"')\n",
    "    blub = blub.replace('\\'significant progress (especially in the phrase \"make strides\")\\'', '\"significant progress (especially in the phrase make strides)\"')\n",
    "    blub = blub.replace('\\'the act of putting one thing or person in the place of another: \"he sent Smith in for Jones but the substitution came too late to help\"\\'',\n",
    "                        '\"the act of putting one thing or person in the place of another: he sent Smith in for Jones but the substitution came too late to help\"')\n",
    "    blub = blub.replace('\\'act of assembling and putting into readiness for war or other emergency: \"mobilization of the troops\"\\'',\n",
    "                        '\"act of assembling and putting into readiness for war or other emergency: mobilization of the troops\"')\n",
    "    blub = blub.replace('\\'a local branch where postal services are available\"\\'', '\"a local branch where postal services are available\"')\n",
    "    blub = blub.replace('\\'promise of reward as in \"carrot and stick\"\\'', '\"promise of reward as in carrot and stick\"')\n",
    "    blub = blub.replace('\\'an area in which something acts or operates or has power or control: \"the range of a supersonic jet\"\\'',\n",
    "                        '\"an area in which something acts or operates or has power or control: the range of a supersonic jet\"')\n",
    "    blub = blub.replace('\\'a demand especially in the phrase \"the call of duty\"\\'', '\"a demand especially in the phrase the call of duty\"')\n",
    "    blub = blub.replace('\\'the state of being kept down by unjust use of force or authority: \"after years of oppression they finally revolted\"\\'',\n",
    "                        '\"the state of being kept down by unjust use of force or authority: after years of oppression they finally revolted\"')\n",
    "    blub = blub.replace('\\'as the agent of or on someone\\\\\\'s part (usually expressed as \"on behalf of\" rather than \"in behalf of\")\\'',\n",
    "                        '\"as the agent of or on someone\\'s part (usually expressed as on behalf of rather than in behalf of\"')\n",
    "    blub = blub.replace('\\'a change in the units or form of an expression: \"conversion from Fahrenheit to Centigrade\"\\'',\n",
    "                        '\"a change in the units or form of an expression: conversion from Fahrenheit to Centigrade\"')\n",
    "    blub = blub.replace('\\'the quality of being able to meet a need satisfactorily: \"he questioned the adequacy of the usual sentimental interpretation of the Golden Rule\"\\'',\n",
    "                        '\"the quality of being able to meet a need satisfactorily: he questioned the adequacy of the usual sentimental interpretation of the Golden Rule\"')\n",
    "    wordnet = json.loads(blub)"
   ]
  },
  {
   "cell_type": "markdown",
   "metadata": {},
   "source": [
    "### Map Freebase Topics to WordNet IDs"
   ]
  },
  {
   "cell_type": "code",
   "execution_count": 4,
   "metadata": {},
   "outputs": [],
   "source": [
    "fbtopic2wnid = {}\n",
    "for synset in wordnet:\n",
    "    if 'freebase_topic' in synset['same_as']:\n",
    "        if synset['same_as']['freebase_topic'] in fbtopic2wnid:\n",
    "            fbtopic2wnid[synset['same_as']['freebase_topic']].append(synset['id'])\n",
    "        else:\n",
    "            fbtopic2wnid[synset['same_as']['freebase_topic']] = [synset['id']]"
   ]
  },
  {
   "cell_type": "markdown",
   "metadata": {},
   "source": [
    "### Count Matches"
   ]
  },
  {
   "cell_type": "code",
   "execution_count": 5,
   "metadata": {},
   "outputs": [
    {
     "name": "stdout",
     "output_type": "stream",
     "text": [
      "clean matches: 355  multi matches: 169  no matches: 77\n"
     ]
    }
   ],
   "source": [
    "clean_match = 0\n",
    "multi_match = 0\n",
    "\n",
    "for cls in oi_classes:\n",
    "    if cls[0] in fbtopic2wnid:\n",
    "        if len(fbtopic2wnid[cls[0]]) == 1:\n",
    "            clean_match += 1\n",
    "        elif len(fbtopic2wnid[cls[0]]) > 1:\n",
    "            multi_match += 1\n",
    "            \n",
    "print(\"clean matches: {}  multi matches: {}  no matches: {}\".format(clean_match, multi_match, len(oi_classes) - multi_match - clean_match))"
   ]
  }
 ],
 "metadata": {
  "kernelspec": {
   "display_name": "Python 3",
   "language": "python",
   "name": "python3"
  },
  "language_info": {
   "codemirror_mode": {
    "name": "ipython",
    "version": 3
   },
   "file_extension": ".py",
   "mimetype": "text/x-python",
   "name": "python",
   "nbconvert_exporter": "python",
   "pygments_lexer": "ipython3",
   "version": "3.6.3"
  }
 },
 "nbformat": 4,
 "nbformat_minor": 2
}
